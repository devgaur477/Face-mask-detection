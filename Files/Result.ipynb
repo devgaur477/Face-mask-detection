{
 "cells": [
  {
   "cell_type": "markdown",
   "metadata": {
    "colab_type": "text",
    "id": "3DR-eO17geWu"
   },
   "source": [
    "# Convolutional Neural Network"
   ]
  },
  {
   "cell_type": "markdown",
   "metadata": {
    "colab_type": "text",
    "id": "EMefrVPCg-60"
   },
   "source": [
    "### Importing the libraries"
   ]
  },
  {
   "cell_type": "code",
   "execution_count": 1,
   "metadata": {
    "colab": {},
    "colab_type": "code",
    "id": "sCV30xyVhFbE",
    "scrolled": true
   },
   "outputs": [
    {
     "name": "stderr",
     "output_type": "stream",
     "text": [
      "Using TensorFlow backend.\n"
     ]
    },
    {
     "data": {
      "text/plain": [
       "'2.2.0'"
      ]
     },
     "execution_count": 1,
     "metadata": {},
     "output_type": "execute_result"
    }
   ],
   "source": [
    "import tensorflow as tf\n",
    "from keras.preprocessing.image import ImageDataGenerator\n",
    "\n",
    "tf.__version__"
   ]
  },
  {
   "cell_type": "code",
   "execution_count": null,
   "metadata": {
    "colab": {},
    "colab_type": "code",
    "id": "FIleuCAjoFD8"
   },
   "outputs": [],
   "source": []
  },
  {
   "cell_type": "markdown",
   "metadata": {
    "colab_type": "text",
    "id": "oxQxCBWyoGPE"
   },
   "source": [
    "## Part 1 - Data Preprocessing"
   ]
  },
  {
   "cell_type": "markdown",
   "metadata": {
    "colab_type": "text",
    "id": "MvE-heJNo3GG"
   },
   "source": [
    "### Preprocessing the Training set"
   ]
  },
  {
   "cell_type": "code",
   "execution_count": 2,
   "metadata": {
    "colab": {},
    "colab_type": "code",
    "id": "0koUcJMJpEBD"
   },
   "outputs": [
    {
     "name": "stdout",
     "output_type": "stream",
     "text": [
      "Found 1376 images belonging to 2 classes.\n"
     ]
    }
   ],
   "source": [
    "train_datagen = ImageDataGenerator(rescale = 1./255,\n",
    "                                   shear_range = 0.2,\n",
    "                                   zoom_range = 0.2,\n",
    "                                   horizontal_flip = True)\n",
    "training_set = train_datagen.flow_from_directory('dataset/training_set',\n",
    "                                                 target_size = (64, 64),\n",
    "                                                 batch_size = 32,\n",
    "                                                 class_mode = 'binary')"
   ]
  },
  {
   "cell_type": "markdown",
   "metadata": {
    "colab_type": "text",
    "id": "mrCMmGw9pHys"
   },
   "source": [
    "### Preprocessing the Test set"
   ]
  },
  {
   "cell_type": "code",
   "execution_count": 3,
   "metadata": {
    "colab": {},
    "colab_type": "code",
    "id": "SH4WzfOhpKc3"
   },
   "outputs": [
    {
     "name": "stdout",
     "output_type": "stream",
     "text": [
      "Found 1376 images belonging to 2 classes.\n"
     ]
    }
   ],
   "source": [
    "test_datagen = ImageDataGenerator(rescale = 1./255)\n",
    "test_set = test_datagen.flow_from_directory('dataset/test_set',\n",
    "                                            target_size = (64, 64),\n",
    "                                            batch_size = 32,\n",
    "                                            class_mode = 'binary')"
   ]
  },
  {
   "cell_type": "markdown",
   "metadata": {
    "colab_type": "text",
    "id": "af8O4l90gk7B"
   },
   "source": [
    "## Part 2 - Building the CNN"
   ]
  },
  {
   "cell_type": "markdown",
   "metadata": {
    "colab_type": "text",
    "id": "ces1gXY2lmoX"
   },
   "source": [
    "### Initialising the CNN"
   ]
  },
  {
   "cell_type": "code",
   "execution_count": 4,
   "metadata": {
    "colab": {},
    "colab_type": "code",
    "id": "SAUt4UMPlhLS"
   },
   "outputs": [],
   "source": [
    "cnn = tf.keras.models.Sequential()"
   ]
  },
  {
   "cell_type": "markdown",
   "metadata": {
    "colab_type": "text",
    "id": "u5YJj_XMl5LF"
   },
   "source": [
    "### Step 1 - Convolution"
   ]
  },
  {
   "cell_type": "code",
   "execution_count": 5,
   "metadata": {
    "colab": {},
    "colab_type": "code",
    "id": "XPzPrMckl-hV"
   },
   "outputs": [],
   "source": [
    "cnn.add(tf.keras.layers.Conv2D(filters=32, kernel_size=3, activation='relu', input_shape=[64, 64, 3]))"
   ]
  },
  {
   "cell_type": "markdown",
   "metadata": {
    "colab_type": "text",
    "id": "tf87FpvxmNOJ"
   },
   "source": [
    "### Step 2 - Pooling"
   ]
  },
  {
   "cell_type": "code",
   "execution_count": 6,
   "metadata": {
    "colab": {},
    "colab_type": "code",
    "id": "ncpqPl69mOac"
   },
   "outputs": [],
   "source": [
    "cnn.add(tf.keras.layers.MaxPool2D(pool_size=2, strides=2))"
   ]
  },
  {
   "cell_type": "markdown",
   "metadata": {
    "colab_type": "text",
    "id": "xaTOgD8rm4mU"
   },
   "source": [
    "### Adding a second convolutional layer"
   ]
  },
  {
   "cell_type": "code",
   "execution_count": 7,
   "metadata": {
    "colab": {},
    "colab_type": "code",
    "id": "i_-FZjn_m8gk"
   },
   "outputs": [],
   "source": [
    "cnn.add(tf.keras.layers.Conv2D(filters=32, kernel_size=3, activation='relu'))\n",
    "cnn.add(tf.keras.layers.MaxPool2D(pool_size=2, strides=2))"
   ]
  },
  {
   "cell_type": "markdown",
   "metadata": {
    "colab_type": "text",
    "id": "tmiEuvTunKfk"
   },
   "source": [
    "### Step 3 - Flattening"
   ]
  },
  {
   "cell_type": "code",
   "execution_count": 8,
   "metadata": {
    "colab": {},
    "colab_type": "code",
    "id": "6AZeOGCvnNZn"
   },
   "outputs": [],
   "source": [
    "cnn.add(tf.keras.layers.Flatten())"
   ]
  },
  {
   "cell_type": "markdown",
   "metadata": {
    "colab_type": "text",
    "id": "dAoSECOm203v"
   },
   "source": [
    "### Step 4 - Full Connection"
   ]
  },
  {
   "cell_type": "code",
   "execution_count": 9,
   "metadata": {
    "colab": {},
    "colab_type": "code",
    "id": "8GtmUlLd26Nq"
   },
   "outputs": [],
   "source": [
    "cnn.add(tf.keras.layers.Dense(units=128, activation='relu'))"
   ]
  },
  {
   "cell_type": "markdown",
   "metadata": {
    "colab_type": "text",
    "id": "yTldFvbX28Na"
   },
   "source": [
    "### Step 5 - Output Layer"
   ]
  },
  {
   "cell_type": "code",
   "execution_count": 10,
   "metadata": {
    "colab": {},
    "colab_type": "code",
    "id": "1p_Zj1Mc3Ko_"
   },
   "outputs": [],
   "source": [
    "cnn.add(tf.keras.layers.Dense(units=1, activation='sigmoid'))"
   ]
  },
  {
   "cell_type": "markdown",
   "metadata": {
    "colab_type": "text",
    "id": "D6XkI90snSDl"
   },
   "source": [
    "## Part 3 - Training the CNN"
   ]
  },
  {
   "cell_type": "markdown",
   "metadata": {
    "colab_type": "text",
    "id": "vfrFQACEnc6i"
   },
   "source": [
    "### Compiling the CNN"
   ]
  },
  {
   "cell_type": "code",
   "execution_count": 11,
   "metadata": {
    "colab": {},
    "colab_type": "code",
    "id": "NALksrNQpUlJ"
   },
   "outputs": [],
   "source": [
    "cnn.compile(optimizer = 'adam', loss = 'binary_crossentropy', metrics = ['accuracy'])"
   ]
  },
  {
   "cell_type": "markdown",
   "metadata": {
    "colab_type": "text",
    "id": "ehS-v3MIpX2h"
   },
   "source": [
    "### Training the CNN on the Training set and evaluating it on the Test set"
   ]
  },
  {
   "cell_type": "code",
   "execution_count": 12,
   "metadata": {
    "colab": {},
    "colab_type": "code",
    "id": "XUj1W4PJptta"
   },
   "outputs": [
    {
     "name": "stdout",
     "output_type": "stream",
     "text": [
      "Epoch 1/25\n",
      "43/43 [==============================] - 35s 810ms/step - loss: 0.4143 - accuracy: 0.8241 - val_loss: 0.1471 - val_accuracy: 0.9506\n",
      "Epoch 2/25\n",
      "43/43 [==============================] - 16s 381ms/step - loss: 0.1193 - accuracy: 0.9564 - val_loss: 0.0742 - val_accuracy: 0.9738\n",
      "Epoch 3/25\n",
      "43/43 [==============================] - 17s 393ms/step - loss: 0.0890 - accuracy: 0.9702 - val_loss: 0.0921 - val_accuracy: 0.9637\n",
      "Epoch 4/25\n",
      "43/43 [==============================] - 16s 380ms/step - loss: 0.0889 - accuracy: 0.9680 - val_loss: 0.0637 - val_accuracy: 0.9789\n",
      "Epoch 5/25\n",
      "43/43 [==============================] - 16s 383ms/step - loss: 0.0541 - accuracy: 0.9804 - val_loss: 0.0370 - val_accuracy: 0.9876\n",
      "Epoch 6/25\n",
      "43/43 [==============================] - 17s 389ms/step - loss: 0.0709 - accuracy: 0.9767 - val_loss: 0.0468 - val_accuracy: 0.9855\n",
      "Epoch 7/25\n",
      "43/43 [==============================] - 16s 376ms/step - loss: 0.0441 - accuracy: 0.9876 - val_loss: 0.0243 - val_accuracy: 0.9949\n",
      "Epoch 8/25\n",
      "43/43 [==============================] - 17s 388ms/step - loss: 0.0372 - accuracy: 0.9891 - val_loss: 0.0224 - val_accuracy: 0.9927\n",
      "Epoch 9/25\n",
      "43/43 [==============================] - 17s 388ms/step - loss: 0.0284 - accuracy: 0.9920 - val_loss: 0.0357 - val_accuracy: 0.9869\n",
      "Epoch 10/25\n",
      "43/43 [==============================] - 17s 384ms/step - loss: 0.0289 - accuracy: 0.9884 - val_loss: 0.0140 - val_accuracy: 0.9964\n",
      "Epoch 11/25\n",
      "43/43 [==============================] - 16s 371ms/step - loss: 0.0265 - accuracy: 0.9920 - val_loss: 0.0378 - val_accuracy: 0.9840\n",
      "Epoch 12/25\n",
      "43/43 [==============================] - 17s 389ms/step - loss: 0.0269 - accuracy: 0.9913 - val_loss: 0.0125 - val_accuracy: 0.9971\n",
      "Epoch 13/25\n",
      "43/43 [==============================] - 16s 374ms/step - loss: 0.0134 - accuracy: 0.9942 - val_loss: 0.0093 - val_accuracy: 0.9971\n",
      "Epoch 14/25\n",
      "43/43 [==============================] - 16s 363ms/step - loss: 0.0147 - accuracy: 0.9956 - val_loss: 0.0155 - val_accuracy: 0.9949\n",
      "Epoch 15/25\n",
      "43/43 [==============================] - 16s 370ms/step - loss: 0.0351 - accuracy: 0.9862 - val_loss: 0.0327 - val_accuracy: 0.9898\n",
      "Epoch 16/25\n",
      "43/43 [==============================] - 16s 370ms/step - loss: 0.0370 - accuracy: 0.9898 - val_loss: 0.0118 - val_accuracy: 0.9964\n",
      "Epoch 17/25\n",
      "43/43 [==============================] - 16s 373ms/step - loss: 0.0231 - accuracy: 0.9927 - val_loss: 0.0155 - val_accuracy: 0.9956\n",
      "Epoch 18/25\n",
      "43/43 [==============================] - 16s 372ms/step - loss: 0.0148 - accuracy: 0.9949 - val_loss: 0.0137 - val_accuracy: 0.9964\n",
      "Epoch 19/25\n",
      "43/43 [==============================] - 16s 371ms/step - loss: 0.0084 - accuracy: 0.9978 - val_loss: 0.0198 - val_accuracy: 0.9927\n",
      "Epoch 20/25\n",
      "43/43 [==============================] - 17s 388ms/step - loss: 0.0201 - accuracy: 0.9927 - val_loss: 0.0079 - val_accuracy: 0.9978\n",
      "Epoch 21/25\n",
      "43/43 [==============================] - 16s 375ms/step - loss: 0.0080 - accuracy: 0.9978 - val_loss: 0.0048 - val_accuracy: 0.9985\n",
      "Epoch 22/25\n",
      "43/43 [==============================] - 16s 379ms/step - loss: 0.0093 - accuracy: 0.9964 - val_loss: 0.0047 - val_accuracy: 0.9985\n",
      "Epoch 23/25\n",
      "43/43 [==============================] - 16s 373ms/step - loss: 0.0088 - accuracy: 0.9985 - val_loss: 0.0036 - val_accuracy: 0.9993\n",
      "Epoch 24/25\n",
      "43/43 [==============================] - 16s 372ms/step - loss: 0.0076 - accuracy: 0.9978 - val_loss: 0.0044 - val_accuracy: 0.9971\n",
      "Epoch 25/25\n",
      "43/43 [==============================] - 16s 374ms/step - loss: 0.0064 - accuracy: 0.9985 - val_loss: 0.0024 - val_accuracy: 0.9993\n"
     ]
    },
    {
     "data": {
      "text/plain": [
       "<tensorflow.python.keras.callbacks.History at 0x286496b59c8>"
      ]
     },
     "execution_count": 12,
     "metadata": {},
     "output_type": "execute_result"
    }
   ],
   "source": [
    "cnn.fit(x = training_set, validation_data = test_set, epochs = 25)"
   ]
  },
  {
   "cell_type": "markdown",
   "metadata": {
    "colab_type": "text",
    "id": "U3PZasO0006Z"
   },
   "source": [
    "## Part 4 - Making a single prediction"
   ]
  },
  {
   "cell_type": "code",
   "execution_count": 24,
   "metadata": {
    "colab": {},
    "colab_type": "code",
    "id": "gsSiWEJY1BPB"
   },
   "outputs": [],
   "source": [
    "import numpy as np\n",
    "from keras.preprocessing import image\n",
    "test_image = image.load_img('dataset/single_prediction/0.jpg', target_size = (64, 64))\n",
    "test_image = image.img_to_array(test_image)\n",
    "test_image = np.expand_dims(test_image, axis = 0)\n",
    "result = cnn.predict(test_image)\n",
    "training_set.class_indices\n",
    "if result[0][0] == 1:\n",
    "  prediction = 'without_mask'\n",
    "else:\n",
    "  prediction = 'with_mask'"
   ]
  },
  {
   "cell_type": "code",
   "execution_count": 25,
   "metadata": {
    "colab": {},
    "colab_type": "code",
    "id": "ED9KB3I54c1i"
   },
   "outputs": [
    {
     "name": "stdout",
     "output_type": "stream",
     "text": [
      "with_mask\n"
     ]
    }
   ],
   "source": [
    "print(prediction)"
   ]
  },
  {
   "cell_type": "code",
   "execution_count": null,
   "metadata": {},
   "outputs": [],
   "source": []
  },
  {
   "cell_type": "code",
   "execution_count": null,
   "metadata": {},
   "outputs": [],
   "source": []
  }
 ],
 "metadata": {
  "colab": {
   "collapsed_sections": [],
   "name": "convolutional_neural_network.ipynb",
   "provenance": [],
   "toc_visible": true
  },
  "kernelspec": {
   "display_name": "Python 3",
   "language": "python",
   "name": "python3"
  },
  "language_info": {
   "codemirror_mode": {
    "name": "ipython",
    "version": 3
   },
   "file_extension": ".py",
   "mimetype": "text/x-python",
   "name": "python",
   "nbconvert_exporter": "python",
   "pygments_lexer": "ipython3",
   "version": "3.7.6"
  }
 },
 "nbformat": 4,
 "nbformat_minor": 1
}
